{
 "cells": [
  {
   "cell_type": "code",
   "execution_count": null,
   "id": "582a868f",
   "metadata": {},
   "outputs": [],
   "source": []
  },
  {
   "cell_type": "code",
   "execution_count": null,
   "id": "b673399d",
   "metadata": {},
   "outputs": [],
   "source": []
  },
  {
   "cell_type": "code",
   "execution_count": null,
   "id": "a5803376",
   "metadata": {},
   "outputs": [],
   "source": []
  },
  {
   "cell_type": "markdown",
   "id": "a1aba2ed",
   "metadata": {},
   "source": [
    "# Combining Dataset"
   ]
  },
  {
   "cell_type": "code",
   "execution_count": 1,
   "id": "16e0b116",
   "metadata": {},
   "outputs": [
    {
     "name": "stdout",
     "output_type": "stream",
     "text": [
      "Successfully read query1950-72.csv\n",
      "Successfully read query1973-77.csv\n",
      "Successfully read query1978-82.csv\n",
      "Successfully read query1983-86.csv\n",
      "Successfully read query1987-90.csv\n",
      "Successfully read query1991-94.csv\n",
      "Successfully read query1995-96.csv\n",
      "Successfully read query1997-98.csv\n",
      "Successfully read query1999-00.csv\n",
      "Successfully read query2001-02.csv\n",
      "Successfully read query2003-04.csv\n",
      "Successfully read query2005-06.csv\n",
      "Successfully read query2007-08.csv\n",
      "Successfully read query2009-10.csv\n",
      "Successfully read query2011-12.csv\n",
      "Successfully read query2013-14.csv\n",
      "Successfully read query2015-16.csv\n",
      "Successfully read query2017-18.csv\n",
      "Successfully read query2019-20.csv\n",
      "Successfully read query2021-22.csv\n",
      "Successfully read query2023-24.csv\n",
      "All CSV files have been combined, sorted, and saved successfully into 'combined_output.csv'.\n"
     ]
    }
   ],
   "source": [
    "import pandas as pd\n",
    "import os\n",
    "\n",
    "# Path to the folder where your CSV files are located\n",
    "directory = r\"D:\\Python\\Final Project 2\\Dataset\"  # Replace with your actual folder path\n",
    "\n",
    "# Create an empty list to store DataFrames\n",
    "all_data = []\n",
    "\n",
    "# Loop through all files in the specified directory\n",
    "for filename in os.listdir(directory):\n",
    "    if filename.endswith(\".csv\"):  # Check for CSV files\n",
    "        file_path = os.path.join(directory, filename)\n",
    "        try:\n",
    "            # Read each CSV file into a DataFrame\n",
    "            df = pd.read_csv(file_path)\n",
    "            all_data.append(df)\n",
    "            print(f\"Successfully read {filename}\")\n",
    "        except Exception as e:\n",
    "            print(f\"Error reading {filename}: {e}\")\n",
    "\n",
    "# Check if any files were successfully read\n",
    "if len(all_data) == 0:\n",
    "    print(\"No CSV files were read. Please check your directory or file formats.\")\n",
    "else:\n",
    "    # Combine all the DataFrames into a single DataFrame\n",
    "    combined_data = pd.concat(all_data, ignore_index=True)\n",
    "\n",
    "    # Convert 'time' to datetime temporarily for sorting\n",
    "    if 'time' in combined_data.columns:\n",
    "        combined_data['time_temp'] = pd.to_datetime(combined_data['time'])\n",
    "\n",
    "        # Sort the data by the temporary 'time_temp' column\n",
    "        combined_data = combined_data.sort_values(by='time_temp')\n",
    "\n",
    "        # Drop the temporary 'time_temp' column to retain the original 'time' format\n",
    "        combined_data = combined_data.drop(columns=['time_temp'])\n",
    "\n",
    "    # Remove duplicate rows based on the 'id' column\n",
    "    combined_data = combined_data.drop_duplicates(subset=['id'])\n",
    "\n",
    "    # Save the combined data into a new CSV file\n",
    "    output_file_path = r\"combined_output.csv\"\n",
    "    combined_data.to_csv(output_file_path, index=False)\n",
    "\n",
    "    print(f\"All CSV files have been combined, sorted, and saved successfully into '{output_file_path}'.\")\n"
   ]
  },
  {
   "cell_type": "code",
   "execution_count": null,
   "id": "36dfb594",
   "metadata": {},
   "outputs": [],
   "source": []
  },
  {
   "cell_type": "markdown",
   "id": "0467ead2",
   "metadata": {},
   "source": [
    "# Import dataset"
   ]
  },
  {
   "cell_type": "code",
   "execution_count": 2,
   "id": "4be32dad",
   "metadata": {},
   "outputs": [
    {
     "data": {
      "text/html": [
       "<div>\n",
       "<style scoped>\n",
       "    .dataframe tbody tr th:only-of-type {\n",
       "        vertical-align: middle;\n",
       "    }\n",
       "\n",
       "    .dataframe tbody tr th {\n",
       "        vertical-align: top;\n",
       "    }\n",
       "\n",
       "    .dataframe thead th {\n",
       "        text-align: right;\n",
       "    }\n",
       "</style>\n",
       "<table border=\"1\" class=\"dataframe\">\n",
       "  <thead>\n",
       "    <tr style=\"text-align: right;\">\n",
       "      <th></th>\n",
       "      <th>time</th>\n",
       "      <th>latitude</th>\n",
       "      <th>longitude</th>\n",
       "      <th>depth</th>\n",
       "      <th>mag</th>\n",
       "      <th>magType</th>\n",
       "      <th>nst</th>\n",
       "      <th>gap</th>\n",
       "      <th>dmin</th>\n",
       "      <th>rms</th>\n",
       "      <th>...</th>\n",
       "      <th>updated</th>\n",
       "      <th>place</th>\n",
       "      <th>type</th>\n",
       "      <th>horizontalError</th>\n",
       "      <th>depthError</th>\n",
       "      <th>magError</th>\n",
       "      <th>magNst</th>\n",
       "      <th>status</th>\n",
       "      <th>locationSource</th>\n",
       "      <th>magSource</th>\n",
       "    </tr>\n",
       "  </thead>\n",
       "  <tbody>\n",
       "    <tr>\n",
       "      <th>0</th>\n",
       "      <td>1950-01-02T15:14:37.960Z</td>\n",
       "      <td>-11.242</td>\n",
       "      <td>165.006</td>\n",
       "      <td>15.0</td>\n",
       "      <td>6.12</td>\n",
       "      <td>mw</td>\n",
       "      <td>NaN</td>\n",
       "      <td>NaN</td>\n",
       "      <td>NaN</td>\n",
       "      <td>NaN</td>\n",
       "      <td>...</td>\n",
       "      <td>2022-04-26T18:23:01.545Z</td>\n",
       "      <td>103 km WSW of Lata, Solomon Islands</td>\n",
       "      <td>earthquake</td>\n",
       "      <td>NaN</td>\n",
       "      <td>8.6</td>\n",
       "      <td>0.41</td>\n",
       "      <td>NaN</td>\n",
       "      <td>reviewed</td>\n",
       "      <td>iscgem</td>\n",
       "      <td>iscgem</td>\n",
       "    </tr>\n",
       "    <tr>\n",
       "      <th>1</th>\n",
       "      <td>1950-01-03T02:51:55.410Z</td>\n",
       "      <td>17.533</td>\n",
       "      <td>121.447</td>\n",
       "      <td>30.0</td>\n",
       "      <td>6.50</td>\n",
       "      <td>mw</td>\n",
       "      <td>NaN</td>\n",
       "      <td>NaN</td>\n",
       "      <td>NaN</td>\n",
       "      <td>NaN</td>\n",
       "      <td>...</td>\n",
       "      <td>2022-04-26T18:23:07.394Z</td>\n",
       "      <td>6 km NNW of Tabuk, Philippines</td>\n",
       "      <td>earthquake</td>\n",
       "      <td>NaN</td>\n",
       "      <td>3.8</td>\n",
       "      <td>0.34</td>\n",
       "      <td>NaN</td>\n",
       "      <td>reviewed</td>\n",
       "      <td>iscgem</td>\n",
       "      <td>iscgem</td>\n",
       "    </tr>\n",
       "    <tr>\n",
       "      <th>2</th>\n",
       "      <td>1950-01-03T11:06:28.640Z</td>\n",
       "      <td>-45.798</td>\n",
       "      <td>-77.077</td>\n",
       "      <td>15.0</td>\n",
       "      <td>6.27</td>\n",
       "      <td>mw</td>\n",
       "      <td>NaN</td>\n",
       "      <td>NaN</td>\n",
       "      <td>NaN</td>\n",
       "      <td>NaN</td>\n",
       "      <td>...</td>\n",
       "      <td>2022-04-26T18:23:08.483Z</td>\n",
       "      <td>Off the coast of Aisen, Chile</td>\n",
       "      <td>earthquake</td>\n",
       "      <td>NaN</td>\n",
       "      <td>25.0</td>\n",
       "      <td>0.20</td>\n",
       "      <td>NaN</td>\n",
       "      <td>reviewed</td>\n",
       "      <td>iscgem</td>\n",
       "      <td>iscgem</td>\n",
       "    </tr>\n",
       "    <tr>\n",
       "      <th>3</th>\n",
       "      <td>1950-01-10T03:05:40.370Z</td>\n",
       "      <td>10.031</td>\n",
       "      <td>-103.964</td>\n",
       "      <td>15.0</td>\n",
       "      <td>6.10</td>\n",
       "      <td>mw</td>\n",
       "      <td>NaN</td>\n",
       "      <td>NaN</td>\n",
       "      <td>NaN</td>\n",
       "      <td>NaN</td>\n",
       "      <td>...</td>\n",
       "      <td>2022-04-26T18:23:14.340Z</td>\n",
       "      <td>northern East Pacific Rise</td>\n",
       "      <td>earthquake</td>\n",
       "      <td>NaN</td>\n",
       "      <td>25.0</td>\n",
       "      <td>0.20</td>\n",
       "      <td>NaN</td>\n",
       "      <td>reviewed</td>\n",
       "      <td>iscgem</td>\n",
       "      <td>iscgem</td>\n",
       "    </tr>\n",
       "    <tr>\n",
       "      <th>4</th>\n",
       "      <td>1950-01-14T19:52:30.000Z</td>\n",
       "      <td>40.217</td>\n",
       "      <td>-124.417</td>\n",
       "      <td>NaN</td>\n",
       "      <td>4.60</td>\n",
       "      <td>ml</td>\n",
       "      <td>NaN</td>\n",
       "      <td>NaN</td>\n",
       "      <td>NaN</td>\n",
       "      <td>NaN</td>\n",
       "      <td>...</td>\n",
       "      <td>2018-06-04T20:43:44.000Z</td>\n",
       "      <td>35 km NW of Shelter Cove, California</td>\n",
       "      <td>earthquake</td>\n",
       "      <td>NaN</td>\n",
       "      <td>NaN</td>\n",
       "      <td>NaN</td>\n",
       "      <td>NaN</td>\n",
       "      <td>reviewed</td>\n",
       "      <td>ushis</td>\n",
       "      <td>brk</td>\n",
       "    </tr>\n",
       "  </tbody>\n",
       "</table>\n",
       "<p>5 rows × 22 columns</p>\n",
       "</div>"
      ],
      "text/plain": [
       "                       time  latitude  longitude  depth   mag magType  nst  \\\n",
       "0  1950-01-02T15:14:37.960Z   -11.242    165.006   15.0  6.12      mw  NaN   \n",
       "1  1950-01-03T02:51:55.410Z    17.533    121.447   30.0  6.50      mw  NaN   \n",
       "2  1950-01-03T11:06:28.640Z   -45.798    -77.077   15.0  6.27      mw  NaN   \n",
       "3  1950-01-10T03:05:40.370Z    10.031   -103.964   15.0  6.10      mw  NaN   \n",
       "4  1950-01-14T19:52:30.000Z    40.217   -124.417    NaN  4.60      ml  NaN   \n",
       "\n",
       "   gap  dmin  rms  ...                   updated  \\\n",
       "0  NaN   NaN  NaN  ...  2022-04-26T18:23:01.545Z   \n",
       "1  NaN   NaN  NaN  ...  2022-04-26T18:23:07.394Z   \n",
       "2  NaN   NaN  NaN  ...  2022-04-26T18:23:08.483Z   \n",
       "3  NaN   NaN  NaN  ...  2022-04-26T18:23:14.340Z   \n",
       "4  NaN   NaN  NaN  ...  2018-06-04T20:43:44.000Z   \n",
       "\n",
       "                                  place        type horizontalError  \\\n",
       "0   103 km WSW of Lata, Solomon Islands  earthquake             NaN   \n",
       "1        6 km NNW of Tabuk, Philippines  earthquake             NaN   \n",
       "2         Off the coast of Aisen, Chile  earthquake             NaN   \n",
       "3            northern East Pacific Rise  earthquake             NaN   \n",
       "4  35 km NW of Shelter Cove, California  earthquake             NaN   \n",
       "\n",
       "  depthError  magError  magNst    status  locationSource magSource  \n",
       "0        8.6      0.41     NaN  reviewed          iscgem    iscgem  \n",
       "1        3.8      0.34     NaN  reviewed          iscgem    iscgem  \n",
       "2       25.0      0.20     NaN  reviewed          iscgem    iscgem  \n",
       "3       25.0      0.20     NaN  reviewed          iscgem    iscgem  \n",
       "4        NaN       NaN     NaN  reviewed           ushis       brk  \n",
       "\n",
       "[5 rows x 22 columns]"
      ]
     },
     "execution_count": 2,
     "metadata": {},
     "output_type": "execute_result"
    }
   ],
   "source": [
    "import pandas as pd\n",
    "\n",
    "dataset_path = \"combined_output.csv\"\n",
    "data= pd.read_csv(dataset_path)\n",
    "data.head()"
   ]
  },
  {
   "cell_type": "code",
   "execution_count": null,
   "id": "21646050",
   "metadata": {},
   "outputs": [],
   "source": []
  },
  {
   "cell_type": "markdown",
   "id": "c42ca7fc",
   "metadata": {},
   "source": [
    "# Convert date time 1"
   ]
  },
  {
   "cell_type": "code",
   "execution_count": 3,
   "id": "c968bd8f",
   "metadata": {},
   "outputs": [
    {
     "data": {
      "text/html": [
       "<div>\n",
       "<style scoped>\n",
       "    .dataframe tbody tr th:only-of-type {\n",
       "        vertical-align: middle;\n",
       "    }\n",
       "\n",
       "    .dataframe tbody tr th {\n",
       "        vertical-align: top;\n",
       "    }\n",
       "\n",
       "    .dataframe thead th {\n",
       "        text-align: right;\n",
       "    }\n",
       "</style>\n",
       "<table border=\"1\" class=\"dataframe\">\n",
       "  <thead>\n",
       "    <tr style=\"text-align: right;\">\n",
       "      <th></th>\n",
       "      <th>time</th>\n",
       "      <th>date</th>\n",
       "      <th>time_only</th>\n",
       "    </tr>\n",
       "  </thead>\n",
       "  <tbody>\n",
       "    <tr>\n",
       "      <th>0</th>\n",
       "      <td>1950-01-02 15:14:37.960000+00:00</td>\n",
       "      <td>1950-01-02</td>\n",
       "      <td>15:14:37.960000</td>\n",
       "    </tr>\n",
       "    <tr>\n",
       "      <th>1</th>\n",
       "      <td>1950-01-03 02:51:55.410000+00:00</td>\n",
       "      <td>1950-01-03</td>\n",
       "      <td>02:51:55.410000</td>\n",
       "    </tr>\n",
       "    <tr>\n",
       "      <th>2</th>\n",
       "      <td>1950-01-03 11:06:28.640000+00:00</td>\n",
       "      <td>1950-01-03</td>\n",
       "      <td>11:06:28.640000</td>\n",
       "    </tr>\n",
       "    <tr>\n",
       "      <th>3</th>\n",
       "      <td>1950-01-10 03:05:40.370000+00:00</td>\n",
       "      <td>1950-01-10</td>\n",
       "      <td>03:05:40.370000</td>\n",
       "    </tr>\n",
       "    <tr>\n",
       "      <th>4</th>\n",
       "      <td>1950-01-14 19:52:30+00:00</td>\n",
       "      <td>1950-01-14</td>\n",
       "      <td>19:52:30</td>\n",
       "    </tr>\n",
       "  </tbody>\n",
       "</table>\n",
       "</div>"
      ],
      "text/plain": [
       "                              time        date        time_only\n",
       "0 1950-01-02 15:14:37.960000+00:00  1950-01-02  15:14:37.960000\n",
       "1 1950-01-03 02:51:55.410000+00:00  1950-01-03  02:51:55.410000\n",
       "2 1950-01-03 11:06:28.640000+00:00  1950-01-03  11:06:28.640000\n",
       "3 1950-01-10 03:05:40.370000+00:00  1950-01-10  03:05:40.370000\n",
       "4        1950-01-14 19:52:30+00:00  1950-01-14         19:52:30"
      ]
     },
     "execution_count": 3,
     "metadata": {},
     "output_type": "execute_result"
    }
   ],
   "source": [
    "# Convert the 'time' column to datetime format\n",
    "data['time'] = pd.to_datetime(data['time'])\n",
    "\n",
    "# Extract date and time as separate columns\n",
    "data['date'] = data['time'].dt.date\n",
    "data['time_only'] = data['time'].dt.time\n",
    "\n",
    "# Display the updated dataframe with new columns\n",
    "data[['time', 'date', 'time_only']].head()\n"
   ]
  },
  {
   "cell_type": "code",
   "execution_count": null,
   "id": "2eb87de3",
   "metadata": {},
   "outputs": [],
   "source": []
  },
  {
   "cell_type": "markdown",
   "id": "73cfa3a5",
   "metadata": {},
   "source": [
    "# Convert date time 2"
   ]
  },
  {
   "cell_type": "code",
   "execution_count": 4,
   "id": "55137a20",
   "metadata": {},
   "outputs": [
    {
     "data": {
      "text/html": [
       "<div>\n",
       "<style scoped>\n",
       "    .dataframe tbody tr th:only-of-type {\n",
       "        vertical-align: middle;\n",
       "    }\n",
       "\n",
       "    .dataframe tbody tr th {\n",
       "        vertical-align: top;\n",
       "    }\n",
       "\n",
       "    .dataframe thead th {\n",
       "        text-align: right;\n",
       "    }\n",
       "</style>\n",
       "<table border=\"1\" class=\"dataframe\">\n",
       "  <thead>\n",
       "    <tr style=\"text-align: right;\">\n",
       "      <th></th>\n",
       "      <th>time</th>\n",
       "      <th>date</th>\n",
       "      <th>year</th>\n",
       "      <th>month</th>\n",
       "      <th>time_only</th>\n",
       "    </tr>\n",
       "  </thead>\n",
       "  <tbody>\n",
       "    <tr>\n",
       "      <th>0</th>\n",
       "      <td>1950-01-02 15:14:37.960000+00:00</td>\n",
       "      <td>1950-01-02</td>\n",
       "      <td>1950</td>\n",
       "      <td>1</td>\n",
       "      <td>15:14:37.960000</td>\n",
       "    </tr>\n",
       "    <tr>\n",
       "      <th>1</th>\n",
       "      <td>1950-01-03 02:51:55.410000+00:00</td>\n",
       "      <td>1950-01-03</td>\n",
       "      <td>1950</td>\n",
       "      <td>1</td>\n",
       "      <td>02:51:55.410000</td>\n",
       "    </tr>\n",
       "    <tr>\n",
       "      <th>2</th>\n",
       "      <td>1950-01-03 11:06:28.640000+00:00</td>\n",
       "      <td>1950-01-03</td>\n",
       "      <td>1950</td>\n",
       "      <td>1</td>\n",
       "      <td>11:06:28.640000</td>\n",
       "    </tr>\n",
       "    <tr>\n",
       "      <th>3</th>\n",
       "      <td>1950-01-10 03:05:40.370000+00:00</td>\n",
       "      <td>1950-01-10</td>\n",
       "      <td>1950</td>\n",
       "      <td>1</td>\n",
       "      <td>03:05:40.370000</td>\n",
       "    </tr>\n",
       "    <tr>\n",
       "      <th>4</th>\n",
       "      <td>1950-01-14 19:52:30+00:00</td>\n",
       "      <td>1950-01-14</td>\n",
       "      <td>1950</td>\n",
       "      <td>1</td>\n",
       "      <td>19:52:30</td>\n",
       "    </tr>\n",
       "  </tbody>\n",
       "</table>\n",
       "</div>"
      ],
      "text/plain": [
       "                              time        date  year  month        time_only\n",
       "0 1950-01-02 15:14:37.960000+00:00  1950-01-02  1950      1  15:14:37.960000\n",
       "1 1950-01-03 02:51:55.410000+00:00  1950-01-03  1950      1  02:51:55.410000\n",
       "2 1950-01-03 11:06:28.640000+00:00  1950-01-03  1950      1  11:06:28.640000\n",
       "3 1950-01-10 03:05:40.370000+00:00  1950-01-10  1950      1  03:05:40.370000\n",
       "4        1950-01-14 19:52:30+00:00  1950-01-14  1950      1         19:52:30"
      ]
     },
     "execution_count": 4,
     "metadata": {},
     "output_type": "execute_result"
    }
   ],
   "source": [
    "# data['time'] = pd.to_datetime(data['time'], errors='coerce')\n",
    "data['year'] = data['time'].dt.year\n",
    "data['month'] = data['time'].dt.month\n",
    "data[['time', 'date', 'year','month', 'time_only']].head()"
   ]
  },
  {
   "cell_type": "code",
   "execution_count": null,
   "id": "5c138e25",
   "metadata": {},
   "outputs": [],
   "source": []
  },
  {
   "cell_type": "markdown",
   "id": "dd92fdea",
   "metadata": {},
   "source": [
    "# Convert magtype into numbers"
   ]
  },
  {
   "cell_type": "code",
   "execution_count": 5,
   "id": "36e8b02a",
   "metadata": {},
   "outputs": [
    {
     "data": {
      "text/html": [
       "<div>\n",
       "<style scoped>\n",
       "    .dataframe tbody tr th:only-of-type {\n",
       "        vertical-align: middle;\n",
       "    }\n",
       "\n",
       "    .dataframe tbody tr th {\n",
       "        vertical-align: top;\n",
       "    }\n",
       "\n",
       "    .dataframe thead th {\n",
       "        text-align: right;\n",
       "    }\n",
       "</style>\n",
       "<table border=\"1\" class=\"dataframe\">\n",
       "  <thead>\n",
       "    <tr style=\"text-align: right;\">\n",
       "      <th></th>\n",
       "      <th>magType</th>\n",
       "      <th>magType_numeric</th>\n",
       "    </tr>\n",
       "  </thead>\n",
       "  <tbody>\n",
       "    <tr>\n",
       "      <th>0</th>\n",
       "      <td>mw</td>\n",
       "      <td>4.0</td>\n",
       "    </tr>\n",
       "    <tr>\n",
       "      <th>1</th>\n",
       "      <td>mw</td>\n",
       "      <td>4.0</td>\n",
       "    </tr>\n",
       "    <tr>\n",
       "      <th>2</th>\n",
       "      <td>mw</td>\n",
       "      <td>4.0</td>\n",
       "    </tr>\n",
       "    <tr>\n",
       "      <th>3</th>\n",
       "      <td>mw</td>\n",
       "      <td>4.0</td>\n",
       "    </tr>\n",
       "    <tr>\n",
       "      <th>4</th>\n",
       "      <td>ml</td>\n",
       "      <td>2.0</td>\n",
       "    </tr>\n",
       "  </tbody>\n",
       "</table>\n",
       "</div>"
      ],
      "text/plain": [
       "  magType  magType_numeric\n",
       "0      mw              4.0\n",
       "1      mw              4.0\n",
       "2      mw              4.0\n",
       "3      mw              4.0\n",
       "4      ml              2.0"
      ]
     },
     "execution_count": 5,
     "metadata": {},
     "output_type": "execute_result"
    }
   ],
   "source": [
    "# Define a mapping for the magType column\n",
    "magtype_mapping = {\n",
    "    'md': 1,   # Example: 'md' -> 1\n",
    "    'ml': 2,   # Example: 'ml' -> 2\n",
    "    'mb': 3,   # Example: 'mb' -> 3\n",
    "    'mw': 4,   # Example: 'mw' -> 4\n",
    "    'mww': 5,\n",
    "    'mwr': 6,\n",
    "    'mb_lg': 7,\n",
    "    'mh': 8,\n",
    "    'mwc': 9,\n",
    "    \n",
    "    \n",
    "    \n",
    "    \n",
    "    # Add other mappings as needed\n",
    "}\n",
    "\n",
    "# Map the magType column to numeric values\n",
    "data['magType_numeric'] = data['magType'].map(magtype_mapping)\n",
    "\n",
    "# Display the updated dataframe with the new column\n",
    "data[['magType', 'magType_numeric']].head()"
   ]
  },
  {
   "cell_type": "code",
   "execution_count": null,
   "id": "5ba7c9c4",
   "metadata": {},
   "outputs": [],
   "source": []
  },
  {
   "cell_type": "markdown",
   "id": "657f0a7f",
   "metadata": {},
   "source": [
    "# Missing values"
   ]
  },
  {
   "cell_type": "code",
   "execution_count": 6,
   "id": "4bc84bfe",
   "metadata": {},
   "outputs": [
    {
     "name": "stdout",
     "output_type": "stream",
     "text": [
      "time                    0\n",
      "latitude                0\n",
      "longitude               0\n",
      "depth                 187\n",
      "mag                     0\n",
      "magType                 1\n",
      "nst                180975\n",
      "gap                130913\n",
      "dmin               204151\n",
      "rms                 40635\n",
      "net                     0\n",
      "id                      0\n",
      "updated                 0\n",
      "place                   0\n",
      "type                    0\n",
      "horizontalError    211244\n",
      "depthError         135802\n",
      "magError           197215\n",
      "magNst              77613\n",
      "status                  0\n",
      "locationSource          0\n",
      "magSource               0\n",
      "date                    0\n",
      "time_only               0\n",
      "year                    0\n",
      "month                   0\n",
      "magType_numeric      7978\n",
      "dtype: int64\n"
     ]
    }
   ],
   "source": [
    "# Calculate the number of missing values per column\n",
    "missing_values = data.isnull().sum()\n",
    "\n",
    "# Display the columns with their corresponding missing value counts\n",
    "print(missing_values)"
   ]
  },
  {
   "cell_type": "code",
   "execution_count": null,
   "id": "eb1592d0",
   "metadata": {},
   "outputs": [],
   "source": []
  },
  {
   "cell_type": "code",
   "execution_count": 7,
   "id": "bc0a42bb",
   "metadata": {},
   "outputs": [
    {
     "name": "stdout",
     "output_type": "stream",
     "text": [
      "                 Missing Values  Percentage (%)\n",
      "time                          0        0.000000\n",
      "latitude                      0        0.000000\n",
      "longitude                     0        0.000000\n",
      "depth                       187        0.065169\n",
      "mag                           0        0.000000\n",
      "magType                       1        0.000348\n",
      "nst                      180975       63.069578\n",
      "gap                      130913       45.623029\n",
      "dmin                     204151       71.146387\n",
      "rms                       40635       14.161250\n",
      "net                           0        0.000000\n",
      "id                            0        0.000000\n",
      "updated                       0        0.000000\n",
      "place                         0        0.000000\n",
      "type                          0        0.000000\n",
      "horizontalError          211244       73.618289\n",
      "depthError               135802       47.326840\n",
      "magError                 197215       68.729199\n",
      "magNst                    77613       27.048041\n",
      "status                        0        0.000000\n",
      "locationSource                0        0.000000\n",
      "magSource                     0        0.000000\n",
      "date                          0        0.000000\n",
      "time_only                     0        0.000000\n",
      "year                          0        0.000000\n",
      "month                         0        0.000000\n",
      "magType_numeric            7978        2.780324\n"
     ]
    }
   ],
   "source": [
    "# Calculate the percentage of missing values per column\n",
    "missing_percentage = (data.isnull().sum() / len(data)) * 100\n",
    "\n",
    "# Combine counts and percentages for a clearer view\n",
    "missing_summary = pd.DataFrame({\n",
    "    'Missing Values': missing_values,\n",
    "    'Percentage (%)': missing_percentage\n",
    "})\n",
    "\n",
    "print(missing_summary)"
   ]
  },
  {
   "cell_type": "code",
   "execution_count": null,
   "id": "5fde1c2a",
   "metadata": {},
   "outputs": [],
   "source": []
  },
  {
   "cell_type": "code",
   "execution_count": 8,
   "id": "da46b2e5",
   "metadata": {},
   "outputs": [
    {
     "name": "stdout",
     "output_type": "stream",
     "text": [
      "['mw' 'ml' 'uk' 'fa' 'mh' 'ms' 'mb' 'md' 'lg' 'mwc' 'mb_lg' nan 'mc' 'ma'\n",
      " 'm' 'mblg' 'mwb' 'mww' 'mwr' 'mlg' 'Md' 'Mb' 'Ml' 'ms_20' 'mlr' 'mwp'\n",
      " 'ml(texnet)']\n"
     ]
    }
   ],
   "source": [
    "# Find unique values in the magType column\n",
    "unique_magtypes = data['magType'].unique()\n",
    "print(unique_magtypes)"
   ]
  },
  {
   "cell_type": "code",
   "execution_count": 9,
   "id": "6bae510a",
   "metadata": {},
   "outputs": [
    {
     "data": {
      "text/plain": [
       "array(['mw', 'ml', 'uk', 'fa', 'mh', 'ms', 'mb', 'md', 'lg', 'mwc',\n",
       "       'mb_lg', nan, 'mc', 'ma', 'm', 'mblg', 'mwb', 'mww', 'mwr', 'mlg',\n",
       "       'ms_20', 'mlr', 'mwp', 'ml(texnet)'], dtype=object)"
      ]
     },
     "execution_count": 9,
     "metadata": {},
     "output_type": "execute_result"
    }
   ],
   "source": [
    "# Ensure all values in the \"magType\" column are lowercase\n",
    "if 'magType' in data.columns:\n",
    "    data['magType'] = data['magType'].str.lower()\n",
    "\n",
    "# Display the updated unique values to verify\n",
    "data['magType'].unique()\n"
   ]
  },
  {
   "cell_type": "code",
   "execution_count": 10,
   "id": "35cde892",
   "metadata": {},
   "outputs": [
    {
     "name": "stdout",
     "output_type": "stream",
     "text": [
      "['mw' 'ml' 'uk' 'fa' 'mh' 'ms' 'mb' 'md' 'lg' 'mwc' 'mb_lg' nan 'mc' 'ma'\n",
      " 'm' 'mblg' 'mwb' 'mww' 'mwr' 'mlg' 'ms_20' 'mlr' 'mwp' 'ml(texnet)']\n"
     ]
    }
   ],
   "source": [
    "# Find unique values in the magType column\n",
    "unique_magtypes = data['magType'].unique()\n",
    "print(unique_magtypes)"
   ]
  },
  {
   "cell_type": "code",
   "execution_count": null,
   "id": "5cd80018",
   "metadata": {},
   "outputs": [],
   "source": []
  },
  {
   "cell_type": "code",
   "execution_count": null,
   "id": "44dfd550",
   "metadata": {},
   "outputs": [],
   "source": []
  },
  {
   "cell_type": "code",
   "execution_count": null,
   "id": "af88f1d0",
   "metadata": {},
   "outputs": [],
   "source": []
  },
  {
   "cell_type": "code",
   "execution_count": null,
   "id": "4cf73eed",
   "metadata": {},
   "outputs": [],
   "source": []
  },
  {
   "cell_type": "code",
   "execution_count": null,
   "id": "ab35d248",
   "metadata": {},
   "outputs": [],
   "source": []
  },
  {
   "cell_type": "markdown",
   "id": "3ce01733",
   "metadata": {},
   "source": [
    "#  Handle the magType problem"
   ]
  },
  {
   "cell_type": "code",
   "execution_count": 11,
   "id": "ad4a05ba",
   "metadata": {},
   "outputs": [
    {
     "data": {
      "image/png": "[encoded data removed]",
      "text/plain": [
       "<Figure size 640x480 with 1 Axes>"
      ]
     },
     "metadata": {},
     "output_type": "display_data"
    }
   ],
   "source": [
    "import pandas as pd\n",
    "import numpy as np\n",
    "import seaborn as sns\n",
    "import matplotlib.pyplot as plt\n",
    "from sklearn.cluster import KMeans\n",
    "from scipy.stats import pearsonr\n",
    "\n",
    "\n",
    "\n",
    "# Magnitude Type Frequency\n",
    "mag_types = data['magType'].value_counts()\n",
    "mag_types.plot(kind='bar', color='orange')\n",
    "plt.title(\"Frequency of Magnitude Types\")\n",
    "plt.show()"
   ]
  },
  {
   "cell_type": "code",
   "execution_count": null,
   "id": "74cd79ad",
   "metadata": {},
   "outputs": [],
   "source": []
  },
  {
   "cell_type": "code",
   "execution_count": 12,
   "id": "4b32ee89",
   "metadata": {},
   "outputs": [
    {
     "name": "stdout",
     "output_type": "stream",
     "text": [
      "Number of NaN values in 'magType' column: 1\n"
     ]
    }
   ],
   "source": [
    "# Check the number of NaN values in the \"magType\" column\n",
    "if 'magType' in data.columns:\n",
    "    nan_count = data['magType'].isna().sum()\n",
    "    print(f\"Number of NaN values in 'magType' column: {nan_count}\")\n",
    "else:\n",
    "    print(\"'magType' column not found in the dataset.\")\n"
   ]
  },
  {
   "cell_type": "code",
   "execution_count": 13,
   "id": "f615d422",
   "metadata": {},
   "outputs": [
    {
     "name": "stdout",
     "output_type": "stream",
     "text": [
      "Row numbers with NaN in 'magType': [35617]\n"
     ]
    }
   ],
   "source": [
    "# Find the row numbers where \"magType\" is NaN\n",
    "if 'magType' in data.columns:\n",
    "    nan_rows = data[data['magType'].isna()].index.tolist()\n",
    "    print(f\"Row numbers with NaN in 'magType': {nan_rows}\")\n",
    "else:\n",
    "    print(\"'magType' column not found in the dataset.\")\n"
   ]
  },
  {
   "cell_type": "markdown",
   "id": "c3385e44",
   "metadata": {},
   "source": [
    "# Delete the nan value of magType row"
   ]
  },
  {
   "cell_type": "code",
   "execution_count": 14,
   "id": "97d8dddc",
   "metadata": {},
   "outputs": [
    {
     "name": "stdout",
     "output_type": "stream",
     "text": [
      "Rows with NaN in 'magType' have been removed.\n",
      "Updated dataset size: (286944, 27)\n"
     ]
    }
   ],
   "source": [
    "# Remove rows where \"magType\" is NaN\n",
    "if 'magType' in data.columns:\n",
    "    data = data.dropna(subset=['magType']).reset_index(drop=True)\n",
    "    print(\"Rows with NaN in 'magType' have been removed.\")\n",
    "else:\n",
    "    print(\"'magType' column not found in the dataset.\")\n",
    "\n",
    "# Display the updated dataset's size\n",
    "print(f\"Updated dataset size: {data.shape}\")\n"
   ]
  },
  {
   "cell_type": "markdown",
   "id": "8beda4ce",
   "metadata": {},
   "source": [
    "# check again"
   ]
  },
  {
   "cell_type": "code",
   "execution_count": 15,
   "id": "94389dec",
   "metadata": {},
   "outputs": [
    {
     "name": "stdout",
     "output_type": "stream",
     "text": [
      "Number of NaN values in 'magType' column: 0\n"
     ]
    }
   ],
   "source": [
    "# Check the number of NaN values in the \"magType\" column\n",
    "if 'magType' in data.columns:\n",
    "    nan_count = data['magType'].isna().sum()\n",
    "    print(f\"Number of NaN values in 'magType' column: {nan_count}\")\n",
    "else:\n",
    "    print(\"'magType' column not found in the dataset.\")\n"
   ]
  },
  {
   "cell_type": "code",
   "execution_count": null,
   "id": "259ec9c6",
   "metadata": {},
   "outputs": [],
   "source": []
  },
  {
   "cell_type": "code",
   "execution_count": null,
   "id": "a49ff308",
   "metadata": {},
   "outputs": [],
   "source": []
  },
  {
   "cell_type": "code",
   "execution_count": null,
   "id": "a6a88d76",
   "metadata": {},
   "outputs": [],
   "source": []
  },
  {
   "cell_type": "markdown",
   "id": "1a28988a",
   "metadata": {},
   "source": [
    "# Convert magType into numbers"
   ]
  },
  {
   "cell_type": "code",
   "execution_count": 16,
   "id": "bf286f9a",
   "metadata": {},
   "outputs": [
    {
     "name": "stdout",
     "output_type": "stream",
     "text": [
      "['mw' 'ml' 'uk' 'fa' 'mh' 'ms' 'mb' 'md' 'lg' 'mwc' 'mb_lg' 'mc' 'ma' 'm'\n",
      " 'mblg' 'mwb' 'mww' 'mwr' 'mlg' 'ms_20' 'mlr' 'mwp' 'ml(texnet)']\n"
     ]
    }
   ],
   "source": [
    "# Find unique values in the magType column\n",
    "unique_magtypes = data['magType'].unique()\n",
    "print(unique_magtypes)"
   ]
  },
  {
   "cell_type": "code",
   "execution_count": null,
   "id": "3c99ce2d",
   "metadata": {},
   "outputs": [],
   "source": []
  },
  {
   "cell_type": "code",
   "execution_count": 17,
   "id": "9aa7a39e",
   "metadata": {},
   "outputs": [
    {
     "data": {
      "text/html": [
       "<div>\n",
       "<style scoped>\n",
       "    .dataframe tbody tr th:only-of-type {\n",
       "        vertical-align: middle;\n",
       "    }\n",
       "\n",
       "    .dataframe tbody tr th {\n",
       "        vertical-align: top;\n",
       "    }\n",
       "\n",
       "    .dataframe thead th {\n",
       "        text-align: right;\n",
       "    }\n",
       "</style>\n",
       "<table border=\"1\" class=\"dataframe\">\n",
       "  <thead>\n",
       "    <tr style=\"text-align: right;\">\n",
       "      <th></th>\n",
       "      <th>magType</th>\n",
       "      <th>magType_numeric</th>\n",
       "    </tr>\n",
       "  </thead>\n",
       "  <tbody>\n",
       "    <tr>\n",
       "      <th>0</th>\n",
       "      <td>mw</td>\n",
       "      <td>1</td>\n",
       "    </tr>\n",
       "    <tr>\n",
       "      <th>1</th>\n",
       "      <td>mw</td>\n",
       "      <td>1</td>\n",
       "    </tr>\n",
       "    <tr>\n",
       "      <th>2</th>\n",
       "      <td>mw</td>\n",
       "      <td>1</td>\n",
       "    </tr>\n",
       "    <tr>\n",
       "      <th>3</th>\n",
       "      <td>mw</td>\n",
       "      <td>1</td>\n",
       "    </tr>\n",
       "    <tr>\n",
       "      <th>4</th>\n",
       "      <td>ml</td>\n",
       "      <td>2</td>\n",
       "    </tr>\n",
       "  </tbody>\n",
       "</table>\n",
       "</div>"
      ],
      "text/plain": [
       "  magType  magType_numeric\n",
       "0      mw                1\n",
       "1      mw                1\n",
       "2      mw                1\n",
       "3      mw                1\n",
       "4      ml                2"
      ]
     },
     "execution_count": 17,
     "metadata": {},
     "output_type": "execute_result"
    }
   ],
   "source": [
    "# Define a mapping for the magType column\n",
    "magtype_mapping = {\n",
    "    'mw' : 1,\n",
    "    'ml' : 2,\n",
    "    'mh' : 3,\n",
    "    'ms' : 4,\n",
    "    'mb' : 5,\n",
    "    'md' : 6,\n",
    "    'lg' : 7,\n",
    "    'mwc' : 8,\n",
    "    'mb_lg' : 9,\n",
    "    'mc' : 10,\n",
    "    'ma' : 11,\n",
    "    'm' : 12,\n",
    "    'mblg' : 13,\n",
    "    'mwb' : 14,\n",
    "    'mww' : 15,\n",
    "    'mwr' : 16,\n",
    "    'mlg' : 17,\n",
    "    'ms_20' : 18,\n",
    "    'mlr' : 19,\n",
    "    'mwp' : 20,\n",
    "    'ml(texnet)' : 21,\n",
    "    'uk' : 22,\n",
    "    'fa' : 23\n",
    "    \n",
    "    \n",
    "    \n",
    "    # Add other mappings as needed\n",
    "}\n",
    "\n",
    "# Map the magType column to numeric values\n",
    "data['magType_numeric'] = data['magType'].map(magtype_mapping)\n",
    "\n",
    "# Display the updated dataframe with the new column\n",
    "data[['magType', 'magType_numeric']].head()"
   ]
  },
  {
   "cell_type": "code",
   "execution_count": null,
   "id": "fd726fd3",
   "metadata": {},
   "outputs": [],
   "source": []
  },
  {
   "cell_type": "code",
   "execution_count": 18,
   "id": "52c8fa02",
   "metadata": {},
   "outputs": [
    {
     "ename": "PermissionError",
     "evalue": "[Errno 13] Permission denied: 'processed_data.csv'",
     "output_type": "error",
     "traceback": [
      "\u001b[1;31m---------------------------------------------------------------------------\u001b[0m",
      "\u001b[1;31mPermissionError\u001b[0m                           Traceback (most recent call last)",
      "Cell \u001b[1;32mIn[18], line 3\u001b[0m\n\u001b[0;32m      1\u001b[0m \u001b[38;5;66;03m# Save the processed DataFrame to a new CSV file\u001b[39;00m\n\u001b[0;32m      2\u001b[0m output_file_path \u001b[38;5;241m=\u001b[39m \u001b[38;5;124m'\u001b[39m\u001b[38;5;124mprocessed_data.csv\u001b[39m\u001b[38;5;124m'\u001b[39m\n\u001b[1;32m----> 3\u001b[0m data\u001b[38;5;241m.\u001b[39mto_csv(output_file_path, index\u001b[38;5;241m=\u001b[39m\u001b[38;5;28;01mFalse\u001b[39;00m)\n\u001b[0;32m      5\u001b[0m \u001b[38;5;66;03m# Print confirmation\u001b[39;00m\n\u001b[0;32m      6\u001b[0m \u001b[38;5;28mprint\u001b[39m(\u001b[38;5;124mf\u001b[39m\u001b[38;5;124m\"\u001b[39m\u001b[38;5;124mProcessed data saved to: \u001b[39m\u001b[38;5;132;01m{\u001b[39;00moutput_file_path\u001b[38;5;132;01m}\u001b[39;00m\u001b[38;5;124m\"\u001b[39m)\n",
      "File \u001b[1;32m~\\anaconda3\\Lib\\site-packages\\pandas\\core\\generic.py:3772\u001b[0m, in \u001b[0;36mNDFrame.to_csv\u001b[1;34m(self, path_or_buf, sep, na_rep, float_format, columns, header, index, index_label, mode, encoding, compression, quoting, quotechar, lineterminator, chunksize, date_format, doublequote, escapechar, decimal, errors, storage_options)\u001b[0m\n\u001b[0;32m   3761\u001b[0m df \u001b[38;5;241m=\u001b[39m \u001b[38;5;28mself\u001b[39m \u001b[38;5;28;01mif\u001b[39;00m \u001b[38;5;28misinstance\u001b[39m(\u001b[38;5;28mself\u001b[39m, ABCDataFrame) \u001b[38;5;28;01melse\u001b[39;00m \u001b[38;5;28mself\u001b[39m\u001b[38;5;241m.\u001b[39mto_frame()\n\u001b[0;32m   3763\u001b[0m formatter \u001b[38;5;241m=\u001b[39m DataFrameFormatter(\n\u001b[0;32m   3764\u001b[0m     frame\u001b[38;5;241m=\u001b[39mdf,\n\u001b[0;32m   3765\u001b[0m     header\u001b[38;5;241m=\u001b[39mheader,\n\u001b[1;32m   (...)\u001b[0m\n\u001b[0;32m   3769\u001b[0m     decimal\u001b[38;5;241m=\u001b[39mdecimal,\n\u001b[0;32m   3770\u001b[0m )\n\u001b[1;32m-> 3772\u001b[0m \u001b[38;5;28;01mreturn\u001b[39;00m DataFrameRenderer(formatter)\u001b[38;5;241m.\u001b[39mto_csv(\n\u001b[0;32m   3773\u001b[0m     path_or_buf,\n\u001b[0;32m   3774\u001b[0m     lineterminator\u001b[38;5;241m=\u001b[39mlineterminator,\n\u001b[0;32m   3775\u001b[0m     sep\u001b[38;5;241m=\u001b[39msep,\n\u001b[0;32m   3776\u001b[0m     encoding\u001b[38;5;241m=\u001b[39mencoding,\n\u001b[0;32m   3777\u001b[0m     errors\u001b[38;5;241m=\u001b[39merrors,\n\u001b[0;32m   3778\u001b[0m     compression\u001b[38;5;241m=\u001b[39mcompression,\n\u001b[0;32m   3779\u001b[0m     quoting\u001b[38;5;241m=\u001b[39mquoting,\n\u001b[0;32m   3780\u001b[0m     columns\u001b[38;5;241m=\u001b[39mcolumns,\n\u001b[0;32m   3781\u001b[0m     index_label\u001b[38;5;241m=\u001b[39mindex_label,\n\u001b[0;32m   3782\u001b[0m     mode\u001b[38;5;241m=\u001b[39mmode,\n\u001b[0;32m   3783\u001b[0m     chunksize\u001b[38;5;241m=\u001b[39mchunksize,\n\u001b[0;32m   3784\u001b[0m     quotechar\u001b[38;5;241m=\u001b[39mquotechar,\n\u001b[0;32m   3785\u001b[0m     date_format\u001b[38;5;241m=\u001b[39mdate_format,\n\u001b[0;32m   3786\u001b[0m     doublequote\u001b[38;5;241m=\u001b[39mdoublequote,\n\u001b[0;32m   3787\u001b[0m     escapechar\u001b[38;5;241m=\u001b[39mescapechar,\n\u001b[0;32m   3788\u001b[0m     storage_options\u001b[38;5;241m=\u001b[39mstorage_options,\n\u001b[0;32m   3789\u001b[0m )\n",
      "File \u001b[1;32m~\\anaconda3\\Lib\\site-packages\\pandas\\io\\formats\\format.py:1186\u001b[0m, in \u001b[0;36mDataFrameRenderer.to_csv\u001b[1;34m(self, path_or_buf, encoding, sep, columns, index_label, mode, compression, quoting, quotechar, lineterminator, chunksize, date_format, doublequote, escapechar, errors, storage_options)\u001b[0m\n\u001b[0;32m   1165\u001b[0m     created_buffer \u001b[38;5;241m=\u001b[39m \u001b[38;5;28;01mFalse\u001b[39;00m\n\u001b[0;32m   1167\u001b[0m csv_formatter \u001b[38;5;241m=\u001b[39m CSVFormatter(\n\u001b[0;32m   1168\u001b[0m     path_or_buf\u001b[38;5;241m=\u001b[39mpath_or_buf,\n\u001b[0;32m   1169\u001b[0m     lineterminator\u001b[38;5;241m=\u001b[39mlineterminator,\n\u001b[1;32m   (...)\u001b[0m\n\u001b[0;32m   1184\u001b[0m     formatter\u001b[38;5;241m=\u001b[39m\u001b[38;5;28mself\u001b[39m\u001b[38;5;241m.\u001b[39mfmt,\n\u001b[0;32m   1185\u001b[0m )\n\u001b[1;32m-> 1186\u001b[0m csv_formatter\u001b[38;5;241m.\u001b[39msave()\n\u001b[0;32m   1188\u001b[0m \u001b[38;5;28;01mif\u001b[39;00m created_buffer:\n\u001b[0;32m   1189\u001b[0m     \u001b[38;5;28;01massert\u001b[39;00m \u001b[38;5;28misinstance\u001b[39m(path_or_buf, StringIO)\n",
      "File \u001b[1;32m~\\anaconda3\\Lib\\site-packages\\pandas\\io\\formats\\csvs.py:240\u001b[0m, in \u001b[0;36mCSVFormatter.save\u001b[1;34m(self)\u001b[0m\n\u001b[0;32m    236\u001b[0m \u001b[38;5;250m\u001b[39m\u001b[38;5;124;03m\"\"\"\u001b[39;00m\n\u001b[0;32m    237\u001b[0m \u001b[38;5;124;03mCreate the writer & save.\u001b[39;00m\n\u001b[0;32m    238\u001b[0m \u001b[38;5;124;03m\"\"\"\u001b[39;00m\n\u001b[0;32m    239\u001b[0m \u001b[38;5;66;03m# apply compression and byte/text conversion\u001b[39;00m\n\u001b[1;32m--> 240\u001b[0m \u001b[38;5;28;01mwith\u001b[39;00m get_handle(\n\u001b[0;32m    241\u001b[0m     \u001b[38;5;28mself\u001b[39m\u001b[38;5;241m.\u001b[39mfilepath_or_buffer,\n\u001b[0;32m    242\u001b[0m     \u001b[38;5;28mself\u001b[39m\u001b[38;5;241m.\u001b[39mmode,\n\u001b[0;32m    243\u001b[0m     encoding\u001b[38;5;241m=\u001b[39m\u001b[38;5;28mself\u001b[39m\u001b[38;5;241m.\u001b[39mencoding,\n\u001b[0;32m    244\u001b[0m     errors\u001b[38;5;241m=\u001b[39m\u001b[38;5;28mself\u001b[39m\u001b[38;5;241m.\u001b[39merrors,\n\u001b[0;32m    245\u001b[0m     compression\u001b[38;5;241m=\u001b[39m\u001b[38;5;28mself\u001b[39m\u001b[38;5;241m.\u001b[39mcompression,\n\u001b[0;32m    246\u001b[0m     storage_options\u001b[38;5;241m=\u001b[39m\u001b[38;5;28mself\u001b[39m\u001b[38;5;241m.\u001b[39mstorage_options,\n\u001b[0;32m    247\u001b[0m ) \u001b[38;5;28;01mas\u001b[39;00m handles:\n\u001b[0;32m    248\u001b[0m     \u001b[38;5;66;03m# Note: self.encoding is irrelevant here\u001b[39;00m\n\u001b[0;32m    249\u001b[0m     \u001b[38;5;28mself\u001b[39m\u001b[38;5;241m.\u001b[39mwriter \u001b[38;5;241m=\u001b[39m csvlib\u001b[38;5;241m.\u001b[39mwriter(\n\u001b[0;32m    250\u001b[0m         handles\u001b[38;5;241m.\u001b[39mhandle,\n\u001b[0;32m    251\u001b[0m         lineterminator\u001b[38;5;241m=\u001b[39m\u001b[38;5;28mself\u001b[39m\u001b[38;5;241m.\u001b[39mlineterminator,\n\u001b[1;32m   (...)\u001b[0m\n\u001b[0;32m    256\u001b[0m         quotechar\u001b[38;5;241m=\u001b[39m\u001b[38;5;28mself\u001b[39m\u001b[38;5;241m.\u001b[39mquotechar,\n\u001b[0;32m    257\u001b[0m     )\n\u001b[0;32m    259\u001b[0m     \u001b[38;5;28mself\u001b[39m\u001b[38;5;241m.\u001b[39m_save()\n",
      "File \u001b[1;32m~\\anaconda3\\Lib\\site-packages\\pandas\\io\\common.py:859\u001b[0m, in \u001b[0;36mget_handle\u001b[1;34m(path_or_buf, mode, encoding, compression, memory_map, is_text, errors, storage_options)\u001b[0m\n\u001b[0;32m    854\u001b[0m \u001b[38;5;28;01melif\u001b[39;00m \u001b[38;5;28misinstance\u001b[39m(handle, \u001b[38;5;28mstr\u001b[39m):\n\u001b[0;32m    855\u001b[0m     \u001b[38;5;66;03m# Check whether the filename is to be opened in binary mode.\u001b[39;00m\n\u001b[0;32m    856\u001b[0m     \u001b[38;5;66;03m# Binary mode does not support 'encoding' and 'newline'.\u001b[39;00m\n\u001b[0;32m    857\u001b[0m     \u001b[38;5;28;01mif\u001b[39;00m ioargs\u001b[38;5;241m.\u001b[39mencoding \u001b[38;5;129;01mand\u001b[39;00m \u001b[38;5;124m\"\u001b[39m\u001b[38;5;124mb\u001b[39m\u001b[38;5;124m\"\u001b[39m \u001b[38;5;129;01mnot\u001b[39;00m \u001b[38;5;129;01min\u001b[39;00m ioargs\u001b[38;5;241m.\u001b[39mmode:\n\u001b[0;32m    858\u001b[0m         \u001b[38;5;66;03m# Encoding\u001b[39;00m\n\u001b[1;32m--> 859\u001b[0m         handle \u001b[38;5;241m=\u001b[39m \u001b[38;5;28mopen\u001b[39m(\n\u001b[0;32m    860\u001b[0m             handle,\n\u001b[0;32m    861\u001b[0m             ioargs\u001b[38;5;241m.\u001b[39mmode,\n\u001b[0;32m    862\u001b[0m             encoding\u001b[38;5;241m=\u001b[39mioargs\u001b[38;5;241m.\u001b[39mencoding,\n\u001b[0;32m    863\u001b[0m             errors\u001b[38;5;241m=\u001b[39merrors,\n\u001b[0;32m    864\u001b[0m             newline\u001b[38;5;241m=\u001b[39m\u001b[38;5;124m\"\u001b[39m\u001b[38;5;124m\"\u001b[39m,\n\u001b[0;32m    865\u001b[0m         )\n\u001b[0;32m    866\u001b[0m     \u001b[38;5;28;01melse\u001b[39;00m:\n\u001b[0;32m    867\u001b[0m         \u001b[38;5;66;03m# Binary mode\u001b[39;00m\n\u001b[0;32m    868\u001b[0m         handle \u001b[38;5;241m=\u001b[39m \u001b[38;5;28mopen\u001b[39m(handle, ioargs\u001b[38;5;241m.\u001b[39mmode)\n",
      "\u001b[1;31mPermissionError\u001b[0m: [Errno 13] Permission denied: 'processed_data.csv'"
     ]
    }
   ],
   "source": [
    "# Save the processed DataFrame to a new CSV file\n",
    "output_file_path = 'processed_data.csv'\n",
    "data.to_csv(output_file_path, index=False)\n",
    "\n",
    "# Print confirmation\n",
    "print(f\"Processed data saved to: {output_file_path}\")"
   ]
  },
  {
   "cell_type": "code",
   "execution_count": null,
   "id": "0284c48f",
   "metadata": {},
   "outputs": [],
   "source": [
    "\n",
    "# Perform one-hot encoding on the 'magType' column with 0/1 binary values\n",
    "magType_one_hot = pd.get_dummies(data['magType'], prefix='magType').astype(int)\n",
    "\n",
    "# Concatenate the one-hot encoded columns with the original DataFrame\n",
    "data1 = pd.concat([data, magType_one_hot], axis=1)\n",
    "\n",
    "# Save the updated dataset to a new file\n",
    "updated_file_path = 'processed_data magType.csv'\n",
    "data1.to_csv(updated_file_path, index=False)\n",
    "\n",
    "print(f\"Processed data saved to {updated_file_path}\")\n"
   ]
  },
  {
   "cell_type": "code",
   "execution_count": null,
   "id": "b4ba76ad",
   "metadata": {},
   "outputs": [],
   "source": []
  },
  {
   "cell_type": "markdown",
   "id": "93c4806d",
   "metadata": {},
   "source": [
    "# Rechack"
   ]
  },
  {
   "cell_type": "code",
   "execution_count": null,
   "id": "14cbd25e",
   "metadata": {
    "scrolled": false
   },
   "outputs": [],
   "source": [
    "# Calculate the number of missing values per column\n",
    "missing_values = data.isnull().sum()\n",
    "\n",
    "# Display the columns with their corresponding missing value counts\n",
    "print(missing_values)"
   ]
  },
  {
   "cell_type": "code",
   "execution_count": null,
   "id": "5be7fc2e",
   "metadata": {
    "scrolled": false
   },
   "outputs": [],
   "source": [
    "# Calculate the percentage of missing values per column\n",
    "missing_percentage = (data.isnull().sum() / len(data)) * 100\n",
    "\n",
    "# Combine counts and percentages for a clearer view\n",
    "missing_summary = pd.DataFrame({\n",
    "    'Missing Values': missing_values,\n",
    "    'Percentage (%)': missing_percentage\n",
    "})\n",
    "\n",
    "print(missing_summary)"
   ]
  },
  {
   "cell_type": "code",
   "execution_count": null,
   "id": "6d6c979a",
   "metadata": {},
   "outputs": [],
   "source": []
  },
  {
   "cell_type": "markdown",
   "id": "b327ba9b",
   "metadata": {},
   "source": [
    "# Data Cleaning"
   ]
  },
  {
   "cell_type": "code",
   "execution_count": null,
   "id": "b65300c4",
   "metadata": {},
   "outputs": [],
   "source": [
    "import pandas as pd\n",
    "import numpy as np\n",
    "from sklearn.impute import SimpleImputer\n",
    "from sklearn.preprocessing import MinMaxScaler, StandardScaler\n",
    "\n",
    "# Load the dataset\n",
    "file_path = 'processed_data magType.csv'\n",
    "df = pd.read_csv(file_path)\n",
    "\n",
    "# Impute depth using regional averages based on latitude, longitude, and magType\n",
    "if 'depth' in df.columns:\n",
    "    df['depth'] = df.groupby(['latitude', 'longitude', 'magType'])['depth'].transform(\n",
    "        lambda x: x.fillna(x.mean())\n",
    "    )\n",
    "\n",
    "# Fallback: Impute remaining depth values using overall mean\n",
    "df['depth'].fillna(df['depth'].mean(), inplace=True)\n",
    "\n",
    "# Impute RMS using averages grouped by event type\n",
    "if 'rms' in df.columns and 'type' in df.columns:\n",
    "    df['rms'] = df.groupby('type')['rms'].transform(lambda x: x.fillna(x.mean()))\n",
    "\n",
    "# Fallback: Impute remaining RMS values using overall mean\n",
    "df['rms'].fillna(df['rms'].mean(), inplace=True)\n",
    "\n",
    "# Drop irrelevant columns\n",
    "irrelevant_columns = ['id', 'status', 'net']\n",
    "df.drop(columns=irrelevant_columns, inplace=True)\n",
    "\n",
    "# Remove duplicate entries\n",
    "df.drop_duplicates(inplace=True)\n",
    "\n",
    "# Handle outliers in geospatial data\n",
    "df = df[(df['latitude'].between(-90, 90)) & (df['longitude'].between(-180, 180))]\n"
   ]
  },
  {
   "cell_type": "markdown",
   "id": "03a692f6",
   "metadata": {},
   "source": [
    "# Feature Engineering"
   ]
  },
  {
   "cell_type": "code",
   "execution_count": null,
   "id": "7571909a",
   "metadata": {},
   "outputs": [],
   "source": []
  },
  {
   "cell_type": "code",
   "execution_count": 19,
   "id": "af841e5d",
   "metadata": {},
   "outputs": [
    {
     "name": "stdout",
     "output_type": "stream",
     "text": [
      "Done\n"
     ]
    }
   ],
   "source": [
    "import pandas as pd\n",
    "import numpy as np\n",
    "\n",
    "# Temporal Features\n",
    "try:\n",
    "    df['time'] = pd.to_datetime(df['time'], format='ISO8601', errors='coerce')  # Ensure robust parsing\n",
    "    df['year'] = df['time'].dt.year\n",
    "    df['month'] = df['time'].dt.month\n",
    "    df['day'] = df['time'].dt.day\n",
    "    df['hour'] = df['time'].dt.hour\n",
    "except Exception as e:\n",
    "    print(f\"Error in datetime conversion: {e}\")\n",
    "\n",
    "# Define seasons\n",
    "def get_season(month):\n",
    "    if month in [12, 1, 2]:\n",
    "        return 'Winter'\n",
    "    elif month in [3, 4, 5]:\n",
    "        return 'Spring'\n",
    "    elif month in [6, 7, 8]:\n",
    "        return 'Summer'\n",
    "    else:\n",
    "        return 'Autumn'\n",
    "\n",
    "if 'month' in df.columns:\n",
    "    df['season'] = df['month'].apply(get_season)\n",
    "\n",
    "# Encoding magType using one-hot encoding\n",
    "if 'magType' in df.columns:\n",
    "    df_encoded = pd.get_dummies(df['magType'], prefix='magType')\n",
    "    df = pd.concat([df, df_encoded], axis=1)\n",
    "    df.drop(columns=['magType'], inplace=True)\n",
    "\n",
    "# Error Metrics: Create combined error metrics\n",
    "if 'horizontalError' in df.columns and 'depthError' in df.columns:\n",
    "    df['combinedError'] = df[['horizontalError', 'depthError']].mean(axis=1, skipna=True)\n",
    "\n",
    "# Geospatial Feature: Proximity to tectonic plate boundaries (mock example)\n",
    "def calculate_proximity(lat, lon, boundary_lat, boundary_lon):\n",
    "    \"\"\"Calculate approximate distance from a point to a tectonic plate boundary.\"\"\"\n",
    "    return np.sqrt((lat - boundary_lat)**2 + (lon - boundary_lon)**2)  # Placeholder, not real distance\n",
    "\n",
    "# Example tectonic boundary coordinates (replace with real data if available)\n",
    "tectonic_boundary_lat, tectonic_boundary_lon = 10.0, 20.0\n",
    "\n",
    "if 'latitude' in df.columns and 'longitude' in df.columns:\n",
    "    df['proximity_to_boundary'] = df.apply(\n",
    "        lambda row: calculate_proximity(\n",
    "            row['latitude'], row['longitude'], tectonic_boundary_lat, tectonic_boundary_lon\n",
    "        ),\n",
    "        axis=1\n",
    "    )\n",
    "print(\"Done\")"
   ]
  },
  {
   "cell_type": "code",
   "execution_count": null,
   "id": "371d8483",
   "metadata": {},
   "outputs": [],
   "source": []
  },
  {
   "cell_type": "markdown",
   "id": "ea1e4081",
   "metadata": {},
   "source": [
    "# Data Normalization/Scaling"
   ]
  },
  {
   "cell_type": "code",
   "execution_count": 20,
   "id": "4d2ff70d",
   "metadata": {},
   "outputs": [
    {
     "ename": "NameError",
     "evalue": "name 'StandardScaler' is not defined",
     "output_type": "error",
     "traceback": [
      "\u001b[1;31m---------------------------------------------------------------------------\u001b[0m",
      "\u001b[1;31mNameError\u001b[0m                                 Traceback (most recent call last)",
      "Cell \u001b[1;32mIn[20], line 5\u001b[0m\n\u001b[0;32m      2\u001b[0m numerical_features \u001b[38;5;241m=\u001b[39m [\u001b[38;5;124m'\u001b[39m\u001b[38;5;124mlatitude\u001b[39m\u001b[38;5;124m'\u001b[39m, \u001b[38;5;124m'\u001b[39m\u001b[38;5;124mlongitude\u001b[39m\u001b[38;5;124m'\u001b[39m, \u001b[38;5;124m'\u001b[39m\u001b[38;5;124mdepth\u001b[39m\u001b[38;5;124m'\u001b[39m, \u001b[38;5;124m'\u001b[39m\u001b[38;5;124mmag\u001b[39m\u001b[38;5;124m'\u001b[39m, \u001b[38;5;124m'\u001b[39m\u001b[38;5;124mrms\u001b[39m\u001b[38;5;124m'\u001b[39m]\n\u001b[0;32m      4\u001b[0m \u001b[38;5;66;03m# Standardization (Z-score scaling)\u001b[39;00m\n\u001b[1;32m----> 5\u001b[0m scaler \u001b[38;5;241m=\u001b[39m StandardScaler()\n\u001b[0;32m      6\u001b[0m df[numerical_features] \u001b[38;5;241m=\u001b[39m scaler\u001b[38;5;241m.\u001b[39mfit_transform(df[numerical_features])\n\u001b[0;32m      8\u001b[0m \u001b[38;5;66;03m# Or Min-Max Scaling\u001b[39;00m\n\u001b[0;32m      9\u001b[0m \u001b[38;5;66;03m# scaler = MinMaxScaler()\u001b[39;00m\n\u001b[0;32m     10\u001b[0m \u001b[38;5;66;03m# df[numerical_features] = scaler.fit_transform(df[numerical_features])\u001b[39;00m\n",
      "\u001b[1;31mNameError\u001b[0m: name 'StandardScaler' is not defined"
     ]
    }
   ],
   "source": [
    "# Scale numerical features\n",
    "numerical_features = ['latitude', 'longitude', 'depth', 'mag', 'rms']\n",
    "\n",
    "# Standardization (Z-score scaling)\n",
    "scaler = StandardScaler()\n",
    "df[numerical_features] = scaler.fit_transform(df[numerical_features])\n",
    "\n",
    "# Or Min-Max Scaling\n",
    "# scaler = MinMaxScaler()\n",
    "# df[numerical_features] = scaler.fit_transform(df[numerical_features])\n",
    "print(\"Done\")"
   ]
  },
  {
   "cell_type": "code",
   "execution_count": null,
   "id": "62aed008",
   "metadata": {},
   "outputs": [],
   "source": []
  },
  {
   "cell_type": "code",
   "execution_count": null,
   "id": "ae724862",
   "metadata": {},
   "outputs": [],
   "source": []
  },
  {
   "cell_type": "code",
   "execution_count": null,
   "id": "d399c43a",
   "metadata": {},
   "outputs": [],
   "source": []
  },
  {
   "cell_type": "code",
   "execution_count": null,
   "id": "090f420c",
   "metadata": {},
   "outputs": [],
   "source": []
  },
  {
   "cell_type": "code",
   "execution_count": null,
   "id": "2cd4a4f4",
   "metadata": {},
   "outputs": [],
   "source": []
  },
  {
   "cell_type": "code",
   "execution_count": null,
   "id": "145334e2",
   "metadata": {},
   "outputs": [],
   "source": []
  },
  {
   "cell_type": "code",
   "execution_count": null,
   "id": "eb3c0330",
   "metadata": {},
   "outputs": [],
   "source": []
  }
 ],
 "metadata": {
  "kernelspec": {
   "display_name": "Python 3 (ipykernel)",
   "language": "python",
   "name": "python3"
  },
  "language_info": {
   "codemirror_mode": {
    "name": "ipython",
    "version": 3
   },
   "file_extension": ".py",
   "mimetype": "text/x-python",
   "name": "python",
   "nbconvert_exporter": "python",
   "pygments_lexer": "ipython3",
   "version": "3.11.4"
  }
 },
 "nbformat": 4,
 "nbformat_minor": 5
}
